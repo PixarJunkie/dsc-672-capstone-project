{
 "cells": [
  {
   "cell_type": "code",
   "execution_count": 45,
   "metadata": {},
   "outputs": [],
   "source": [
    "import pandas as pd\n",
    "import numpy as np\n",
    "from geopy import distance\n",
    "from datetime import datetime, timedelta\n",
    "from sklearn.preprocessing import LabelEncoder\n",
    "import matplotlib.pyplot as plt \n",
    "import seaborn as sns\n",
    "import calendar\n",
    "from sklearn.tree import DecisionTreeRegressor\n",
    "from pandas.api.types import CategoricalDtype\n",
    "from sklearn.preprocessing import LabelEncoder, OrdinalEncoder\n",
    "from sklearn.model_selection import train_test_split, cross_val_score, cross_val_predict, validation_curve\n",
    "from sklearn.ensemble import RandomForestRegressor, GradientBoostingRegressor\n",
    "from sklearn.metrics import mean_squared_error, mean_absolute_error, r2_score\n",
    "from sklearn.linear_model import SGDRegressor, Ridge\n",
    "from imblearn.over_sampling import SMOTE, RandomOverSampler\n",
    "from imblearn.under_sampling import RandomUnderSampler\n",
    "from sklearn.model_selection import GridSearchCV\n",
    "from collections import Counter\n",
    "import smogn\n",
    "import os\n",
    "import warnings\n",
    "warnings.filterwarnings(\"ignore\")"
   ]
  },
  {
   "cell_type": "markdown",
   "metadata": {},
   "source": [
    "# Feature Engineering"
   ]
  },
  {
   "cell_type": "code",
   "execution_count": 3,
   "metadata": {},
   "outputs": [],
   "source": [
    "#Import data\n",
    "customers = pd.read_csv(r'https://raw.githubusercontent.com/PixarJunkie/dsc-672-capstone-project/main/data/olist_customers_dataset.csv')\n",
    "locations = pd.read_csv(r'https://raw.githubusercontent.com/PixarJunkie/dsc-672-capstone-project/main/data/olist_geolocation_dataset.csv')\n",
    "items = pd.read_csv(r'https://raw.githubusercontent.com/PixarJunkie/dsc-672-capstone-project/main/data/olist_order_items_dataset.csv')\n",
    "payments = pd.read_csv(r'https://raw.githubusercontent.com/PixarJunkie/dsc-672-capstone-project/main/data/olist_order_payments_dataset.csv')\n",
    "reviews = pd.read_csv(r'https://raw.githubusercontent.com/PixarJunkie/dsc-672-capstone-project/main/data/olist_order_reviews_dataset.csv')\n",
    "orders = pd.read_csv(r'https://raw.githubusercontent.com/PixarJunkie/dsc-672-capstone-project/main/data/olist_orders_dataset.csv')\n",
    "products = pd.read_csv(r'https://raw.githubusercontent.com/PixarJunkie/dsc-672-capstone-project/main/data/olist_products_dataset.csv')\n",
    "sellers = pd.read_csv(r'https://raw.githubusercontent.com/PixarJunkie/dsc-672-capstone-project/main/data/olist_sellers_dataset.csv')\n",
    "product_category = pd.read_csv(r'https://raw.githubusercontent.com/PixarJunkie/dsc-672-capstone-project/main/data/product_category_name_translation.csv')\n",
    "closed_deals = pd.read_csv(r'https://raw.githubusercontent.com/PixarJunkie/dsc-672-capstone-project/main/data/olist_closed_deals_dataset.csv')\n",
    "marketing_leads = pd.read_csv(r'https://raw.githubusercontent.com/PixarJunkie/dsc-672-capstone-project/main/data/olist_marketing_qualified_leads_dataset.csv')"
   ]
  },
  {
   "cell_type": "markdown",
   "metadata": {},
   "source": [
    "### Merge Datasets"
   ]
  },
  {
   "cell_type": "code",
   "execution_count": 4,
   "metadata": {},
   "outputs": [
    {
     "name": "stdout",
     "output_type": "stream",
     "text": [
      "(118434, 34)\n"
     ]
    }
   ],
   "source": [
    "#Merging Data\n",
    "merge_df = pd.merge(orders, payments, on = 'order_id', how = 'left')\n",
    "merge_df = merge_df.merge(customers, on = 'customer_id', how = 'left')\n",
    "merge_df = merge_df.merge(items, on = 'order_id', how = 'left') \n",
    "merge_df = merge_df.merge(products, on = 'product_id', how = 'left')\n",
    "merge_df = merge_df.merge(product_category, on = \"product_category_name\", how = 'left')\n",
    "final_df = merge_df.merge(sellers, on = 'seller_id', how = 'left')\n",
    "\n",
    "#Drop NAs, check shape, check NANs\n",
    "print(final_df.shape)\n",
    "final_df.dropna(inplace=True) \n",
    "\n",
    "#Drop unecessary columns\n",
    "final_df.drop(['product_category_name'], axis = 1, inplace = True)"
   ]
  },
  {
   "cell_type": "markdown",
   "metadata": {},
   "source": [
    "### Create Dummy/Temporal Variables"
   ]
  },
  {
   "cell_type": "code",
   "execution_count": 5,
   "metadata": {},
   "outputs": [],
   "source": [
    "#Dummy df\n",
    "dummy_df = final_df.copy()\n",
    "\n",
    "#Adding Columns\n",
    "#Change columns to datetime\n",
    "date_cols = ['order_purchase_timestamp', 'order_delivered_customer_date', 'order_delivered_carrier_date', 'order_estimated_delivery_date', 'shipping_limit_date']\n",
    "dummy_df[date_cols] = dummy_df[date_cols].apply(pd.to_datetime)\n",
    "\n",
    "#Create temporal variables variable\n",
    "dummy_df['order_delivered_month'] = pd.DatetimeIndex(dummy_df.order_purchase_timestamp).month\n",
    "dummy_df['estimated_delivery_month'] = pd.DatetimeIndex(dummy_df.order_estimated_delivery_date).month\n",
    "dummy_df['estimated_delivered_days'] = (dummy_df.order_delivered_customer_date - dummy_df.order_estimated_delivery_date).apply(lambda x: x.days)\n",
    "dummy_df['shipping_limit_carrier_days'] = (dummy_df.order_delivered_carrier_date - dummy_df.shipping_limit_date).apply(lambda x: x.days)\n",
    "\n",
    "#Create late column \n",
    "dummy_df['late_to_customer'] = np.where(dummy_df.estimated_delivered_days < 0, 0, 1)\n",
    "dummy_df['late_to_carrier'] = np.where(dummy_df.estimated_delivered_days < 0, 0, 1)\n",
    "\n",
    "#Months with major holidays\n",
    "holiday_months = {1: 1, 2: 0, 3: 2, 4: 1, 5: 1, 6: 1, 7: 1, 8: 0, 9: 1, 10: 1, 11: 2, 12: 1}\n",
    "dummy_df['major_holidays'] = dummy_df.estimated_delivery_month.map(holiday_months)\n",
    "\n",
    "#Weight per volume derivation \n",
    "#Assuming generalized volume calc where v = LWH, so w_v = w/LWH\n",
    "dummy_df['weight_by_volume'] = dummy_df.product_weight_g / (dummy_df.product_length_cm * dummy_df.product_width_cm * dummy_df.product_height_cm)\n",
    "\n",
    "#Distance \n",
    "#Location dict\n",
    "lat_dict = dict(zip(locations.geolocation_zip_code_prefix, locations.geolocation_lat))\n",
    "lng_dict = dict(zip(locations.geolocation_zip_code_prefix, locations.geolocation_lng))\n",
    "\n",
    "#Locations \n",
    "dummy_df['customer_lat'] = dummy_df.customer_zip_code_prefix.map(lat_dict)\n",
    "dummy_df['customer_lng'] = dummy_df.customer_zip_code_prefix.map(lng_dict)\n",
    "dummy_df['seller_lat'] = dummy_df.seller_zip_code_prefix.map(lat_dict)\n",
    "dummy_df['seller_lng'] = dummy_df.seller_zip_code_prefix.map(lat_dict)\n",
    "#Drop rows where zip code returned empty for lat or lng\n",
    "dummy_df.dropna(subset = ['customer_lat', 'customer_lng', 'seller_lat', 'seller_lng'], how = 'any', inplace = True)\n",
    "#Zip lat and lng for customer and seller\n",
    "dummy_df['customer_lat_lng'] = list(zip(dummy_df.customer_lat, dummy_df.customer_lng))\n",
    "dummy_df['seller_lat_lng'] = list(zip(dummy_df.seller_lat, dummy_df.seller_lng))\n",
    "\n",
    "#Calculate distance\n",
    "dummy_df['seller_customer_dist_miles'] = dummy_df.apply(lambda x: distance.distance(x.seller_lat_lng, x.customer_lat_lng).miles, axis = 1)"
   ]
  },
  {
   "cell_type": "markdown",
   "metadata": {},
   "source": [
    "#### Transform Features"
   ]
  },
  {
   "cell_type": "code",
   "execution_count": 6,
   "metadata": {},
   "outputs": [],
   "source": [
    "#Transform features\n",
    "le = LabelEncoder()\n",
    "\n",
    "#List of columns to transform\n",
    "dummy_cols = ['order_status', 'payment_type', 'customer_state', 'customer_city', 'seller_city', 'seller_state', 'product_category_name_english', 'customer_unique_id', 'seller_id', 'product_id']\n",
    "\n",
    "#Encode features\n",
    "for col in dummy_cols:\n",
    "    dummy_df[col] = le.fit_transform(dummy_df[col])\n",
    "    \n",
    "#Drop uneeded columns \n",
    "dummy_df.drop(columns = ['order_id', 'order_status', 'customer_id', 'order_purchase_timestamp', 'order_delivered_customer_date', 'order_delivered_carrier_date', 'order_estimated_delivery_date', 'shipping_limit_date', \n",
    "                         'order_approved_at', 'customer_lat', 'customer_lng', 'seller_lat', 'seller_lng', 'customer_lat_lng', 'seller_lat_lng', 'product_name_lenght', 'product_photos_qty', \n",
    "                         'product_description_lenght'], axis = 1, inplace = True)"
   ]
  },
  {
   "cell_type": "markdown",
   "metadata": {},
   "source": [
    "## Oversampling/Undersampling"
   ]
  },
  {
   "cell_type": "code",
   "execution_count": 78,
   "metadata": {},
   "outputs": [
    {
     "name": "stdout",
     "output_type": "stream",
     "text": [
      "Training/Test Size Without OS: \n",
      "X_train size: (78973, 29)\n",
      "y_train size: (78973,)\n",
      "X_test size: (33846, 29)\n",
      "y_test size: (33846,)\n",
      "\n",
      "Training/Test Size after OS: \n",
      "X_train size: (91015, 29)\n",
      "y_train size: (91015,)\n",
      "\n",
      "Training/Test Size after US: \n",
      "X_train size: (36966, 29)\n",
      "y_train size: (36966,)\n",
      "\n",
      "Training/Test Size after OS then US: \n",
      "X_train size: (63710, 29)\n",
      "y_train size: (63710,)\n",
      "\n"
     ]
    }
   ],
   "source": [
    "#Oversample late_to_customer\n",
    "#Define X and y\n",
    "X = dummy_df[dummy_df.columns.difference(['late_to_customer'])]\n",
    "y = dummy_df.late_to_customer\n",
    "\n",
    "#Train/test split\n",
    "X_train, X_test, y_train, y_test = train_test_split(X, y, test_size = 0.3, random_state = 23)\n",
    "\n",
    "#Oversampling minority class\n",
    "oversample = RandomOverSampler(sampling_strategy = 0.25, random_state = 23)\n",
    "X_train_os, y_train_os = oversample.fit_resample(X_train, y_train)\n",
    "\n",
    "#Undersampling majority class\n",
    "# us_dict = {0: 60000} \n",
    "undersample = RandomUnderSampler(sampling_strategy = 0.20, random_state = 23)\n",
    "X_train_us, y_train_us = undersample.fit_resample(X_train, y_train)\n",
    "\n",
    "# Combined (Apply undersampling to oversampled X_train and y_train)\n",
    "undersample = RandomUnderSampler(sampling_strategy = 0.4, random_state = 23)\n",
    "X_train_os_us, y_train_os_us = undersample.fit_resample(X_train_os, y_train_os)\n",
    "\n",
    "print('Training/Test Size Without OS: ')\n",
    "print('X_train size: ' + str(X_train.shape))\n",
    "print('y_train size: ' + str(y_train.shape))\n",
    "print('X_test size: ' + str(X_test.shape))\n",
    "print('y_test size: ' + str(y_test.shape))\n",
    "print('')\n",
    "\n",
    "print('Training/Test Size after OS: ')\n",
    "print('X_train size: ' + str(X_train_os.shape))\n",
    "print('y_train size: ' + str(y_train_os.shape))\n",
    "print('')\n",
    "\n",
    "print('Training/Test Size after US: ')\n",
    "print('X_train size: ' + str(X_train_us.shape))\n",
    "print('y_train size: ' + str(y_train_us.shape))\n",
    "print('')\n",
    "\n",
    "print('Training/Test Size after OS then US: ')\n",
    "print('X_train size: ' + str(X_train_os_us.shape))\n",
    "print('y_train size: ' + str(y_train_os_us.shape))\n",
    "print('')"
   ]
  },
  {
   "cell_type": "code",
   "execution_count": 71,
   "metadata": {},
   "outputs": [
    {
     "data": {
      "image/png": "[encoded data removed]",
      "text/plain": [
       "<Figure size 1080x720 with 4 Axes>"
      ]
     },
     "metadata": {
      "needs_background": "light"
     },
     "output_type": "display_data"
    }
   ],
   "source": [
    "#Over/Undersample Plots\n",
    "fig, axs = plt.subplots(2, 2, figsize=(15, 10))\n",
    "\n",
    "axs[0, 0].hist(y_train)\n",
    "axs[0, 0].set_title('Original y_train Distribution')\n",
    "axs[0, 1].hist(y_train_os)\n",
    "axs[0, 1].set_title('Oversampled y_train Distribution')\n",
    "axs[1, 0].hist(y_train_us)\n",
    "axs[1, 0].set_title('Undersampled y_train Distribution')\n",
    "axs[1, 1].hist(y_train_os_us)\n",
    "axs[1, 1].set_title('Oversampled > Undersampled y_train Distribution')\n",
    "\n",
    "for ax in axs.flat:\n",
    "    ax.set(xlabel='Delivery Status (0: Ontime, 1: Late)', ylabel='Count')\n",
    "\n",
    "#Hide x labels and tick labels for top plots and y ticks for right plots.\n",
    "for ax in axs.flat:\n",
    "    ax.label_outer()"
   ]
  },
  {
   "cell_type": "code",
   "execution_count": 75,
   "metadata": {},
   "outputs": [],
   "source": [
    "#Swap estimated_delivered_days with late_to_customer\n",
    "#Train/test split\n",
    "\n",
    "#Original data\n",
    "X_train['late_to_customer'] = y_train\n",
    "y_train = X_train.estimated_delivered_days\n",
    "X_train.drop(columns = 'estimated_delivered_days', inplace = True)\n",
    "\n",
    "#X_test and y_test only need to be adjusted once\n",
    "X_test['late_to_customer'] = y_test\n",
    "y_test = X_test.estimated_delivered_days\n",
    "X_test.drop(columns = 'estimated_delivered_days', inplace = True)\n",
    "\n",
    "#Oversampled data\n",
    "X_train_os['late_to_customer'] = y_train_os\n",
    "y_train_os = X_train_os.estimated_delivered_days\n",
    "X_train_os.drop(columns = 'estimated_delivered_days', inplace = True)\n",
    "\n",
    "#Undersampled data\n",
    "X_train_us['late_to_customer'] = y_train_us\n",
    "y_train_us = X_train_us.estimated_delivered_days\n",
    "X_train_us.drop(columns = 'estimated_delivered_days', inplace = True)\n",
    "\n",
    "#Undersampled data\n",
    "X_train_os_us['late_to_customer'] = y_train_os_us\n",
    "y_train_os_us = X_train_os_us.estimated_delivered_days\n",
    "X_train_os_us.drop(columns = 'estimated_delivered_days', inplace = True)"
   ]
  },
  {
   "cell_type": "markdown",
   "metadata": {},
   "source": [
    "## Basic Models"
   ]
  },
  {
   "cell_type": "code",
   "execution_count": 32,
   "metadata": {},
   "outputs": [],
   "source": [
    "#Model definition\n",
    "datasets = ['original', 'os', 'us', 'os_us']\n",
    "dataset_dict = {'original': [X_train, y_train], 'os': [X_train_os, y_train_os], 'us': [X_train_us, y_train_us], 'os_us': [X_train_os_us, y_train_os_us]}\n",
    "models = ['gbr', 'rfr', 'dtr'] \n",
    "model_dict = {'gbr': GradientBoostingRegressor(), 'rfr': RandomForestRegressor(), 'dtr': DecisionTreeRegressor()}"
   ]
  },
  {
   "cell_type": "code",
   "execution_count": 33,
   "metadata": {},
   "outputs": [
    {
     "name": "stdout",
     "output_type": "stream",
     "text": [
      "training gbr - original\n",
      "\n",
      "______________________________________________________________________________________________________________________________________________________\n",
      "original - gbr Test Accuracy: 0.5415142097571568\n",
      "original - gbr Test MSE: 47.85121950035096\n",
      "original -gbr Test MAE: 4.69325178898514\n",
      "original - gbr Test R2: 0.5415142097571568\n",
      "______________________________________________________________________________________________________________________________________________________\n",
      "\n",
      "original - gbr completed\n",
      "______________________________________________________________________________________________________________________________________________________\n",
      "\n",
      "training rfr - original\n",
      "\n",
      "______________________________________________________________________________________________________________________________________________________\n",
      "original - rfr Test Accuracy: 0.6572738437875267\n",
      "original - rfr Test MSE: 35.7696244429914\n",
      "original -rfr Test MAE: 3.7823998299018244\n",
      "original - rfr Test R2: 0.6572738437875267\n",
      "______________________________________________________________________________________________________________________________________________________\n",
      "\n",
      "original - rfr completed\n",
      "______________________________________________________________________________________________________________________________________________________\n",
      "\n",
      "training dtr - original\n",
      "\n",
      "______________________________________________________________________________________________________________________________________________________\n",
      "original - dtr Test Accuracy: 0.30063114045506134\n",
      "original - dtr Test MSE: 72.99169030313774\n",
      "original -dtr Test MAE: 5.076685575843527\n",
      "original - dtr Test R2: 0.30063114045506134\n",
      "______________________________________________________________________________________________________________________________________________________\n",
      "\n",
      "original - dtr completed\n",
      "______________________________________________________________________________________________________________________________________________________\n",
      "\n",
      "training gbr - os\n",
      "\n",
      "______________________________________________________________________________________________________________________________________________________\n",
      "os - gbr Test Accuracy: 0.5273861448824455\n",
      "os - gbr Test MSE: 49.3257365907867\n",
      "os -gbr Test MAE: 4.798478542331009\n",
      "os - gbr Test R2: 0.5273861448824455\n",
      "______________________________________________________________________________________________________________________________________________________\n",
      "\n",
      "os - gbr completed\n",
      "______________________________________________________________________________________________________________________________________________________\n",
      "\n",
      "training rfr - os\n",
      "\n",
      "______________________________________________________________________________________________________________________________________________________\n",
      "os - rfr Test Accuracy: 0.6463193616638362\n",
      "os - rfr Test MSE: 36.91292122506995\n",
      "os -rfr Test MAE: 3.7773318087785466\n",
      "os - rfr Test R2: 0.6463193616638362\n",
      "______________________________________________________________________________________________________________________________________________________\n",
      "\n",
      "os - rfr completed\n",
      "______________________________________________________________________________________________________________________________________________________\n",
      "\n",
      "training dtr - os\n",
      "\n",
      "______________________________________________________________________________________________________________________________________________________\n",
      "os - dtr Test Accuracy: 0.2949720011652224\n",
      "os - dtr Test MSE: 73.58232303833704\n",
      "os -dtr Test MAE: 5.112987256002678\n",
      "os - dtr Test R2: 0.2949720011652224\n",
      "______________________________________________________________________________________________________________________________________________________\n",
      "\n",
      "os - dtr completed\n",
      "______________________________________________________________________________________________________________________________________________________\n",
      "\n",
      "training gbr - us\n",
      "\n",
      "______________________________________________________________________________________________________________________________________________________\n",
      "us - gbr Test Accuracy: 0.5329920402517556\n",
      "us - gbr Test MSE: 48.74066081412899\n",
      "us -gbr Test MAE: 4.759268105651892\n",
      "us - gbr Test R2: 0.5329920402517556\n",
      "______________________________________________________________________________________________________________________________________________________\n",
      "\n",
      "us - gbr completed\n",
      "______________________________________________________________________________________________________________________________________________________\n",
      "\n",
      "training rfr - us\n",
      "\n",
      "______________________________________________________________________________________________________________________________________________________\n",
      "us - rfr Test Accuracy: 0.6170668383831464\n",
      "us - rfr Test MSE: 39.965946950691695\n",
      "us -rfr Test MAE: 4.140765348933404\n",
      "us - rfr Test R2: 0.6170668383831464\n",
      "______________________________________________________________________________________________________________________________________________________\n",
      "\n",
      "us - rfr completed\n",
      "______________________________________________________________________________________________________________________________________________________\n",
      "\n",
      "training dtr - us\n",
      "\n",
      "______________________________________________________________________________________________________________________________________________________\n",
      "us - dtr Test Accuracy: 0.22218311299118754\n",
      "us - dtr Test MSE: 81.17914967795308\n",
      "us -dtr Test MAE: 5.610559593452698\n",
      "us - dtr Test R2: 0.22218311299118754\n",
      "______________________________________________________________________________________________________________________________________________________\n",
      "\n",
      "us - dtr completed\n",
      "______________________________________________________________________________________________________________________________________________________\n",
      "\n",
      "training gbr - os_us\n",
      "\n",
      "______________________________________________________________________________________________________________________________________________________\n",
      "os_us - gbr Test Accuracy: 0.518026013364111\n",
      "os_us - gbr Test MSE: 50.30263427740583\n",
      "os_us -gbr Test MAE: 4.86225425236221\n",
      "os_us - gbr Test R2: 0.518026013364111\n",
      "______________________________________________________________________________________________________________________________________________________\n",
      "\n",
      "os_us - gbr completed\n",
      "______________________________________________________________________________________________________________________________________________________\n",
      "\n",
      "training rfr - os_us\n",
      "\n",
      "______________________________________________________________________________________________________________________________________________________\n",
      "os_us - rfr Test Accuracy: 0.6271993713385005\n",
      "os_us - rfr Test MSE: 38.908435313778426\n",
      "os_us -rfr Test MAE: 3.981811934667155\n",
      "os_us - rfr Test R2: 0.6271993713385005\n",
      "______________________________________________________________________________________________________________________________________________________\n",
      "\n",
      "os_us - rfr completed\n",
      "______________________________________________________________________________________________________________________________________________________\n",
      "\n",
      "training dtr - os_us\n",
      "\n",
      "______________________________________________________________________________________________________________________________________________________\n",
      "os_us - dtr Test Accuracy: 0.28082731411950734\n",
      "os_us - dtr Test MSE: 75.05857495059321\n",
      "os_us -dtr Test MAE: 5.364193700880459\n",
      "os_us - dtr Test R2: 0.28082731411950734\n",
      "______________________________________________________________________________________________________________________________________________________\n",
      "\n",
      "os_us - dtr completed\n",
      "______________________________________________________________________________________________________________________________________________________\n",
      "\n"
     ]
    }
   ],
   "source": [
    "#Fit/predict dicts\n",
    "fit_model_dict = {}\n",
    "train_pred_dict = {}\n",
    "test_pred_dict = {}\n",
    "\n",
    "#Training summary dicts\n",
    "train_accuracy_dict = {}\n",
    "train_mse_dict = {}\n",
    "train_mae_dict = {}\n",
    "train_r2_dict = {}\n",
    "\n",
    "#Test summary dicts\n",
    "test_accuracy_dict = {}\n",
    "test_mse_dict = {}\n",
    "test_mae_dict = {}\n",
    "test_r2_dict = {}\n",
    "\n",
    "#Fit models\n",
    "for dataset in datasets:\n",
    "    for model in models:\n",
    "        print('training %s - %s' %(model, dataset))\n",
    "        print('')\n",
    "        clf = model_dict['%s' %(model)]\n",
    "        clf.fit(dataset_dict[dataset][0], dataset_dict[dataset][1])\n",
    "\n",
    "        #Training preds                  \n",
    "        train_preds = clf.predict(dataset_dict[dataset][0])\n",
    "        train_accuracy = clf.score(dataset_dict[dataset][0], dataset_dict[dataset][1])\n",
    "        train_mse = mean_squared_error(dataset_dict[dataset][1], train_preds)\n",
    "        train_mae = mean_absolute_error(dataset_dict[dataset][1], train_preds)\n",
    "        train_r2 = r2_score(dataset_dict[dataset][1], train_preds)\n",
    "\n",
    "        #Write outputs to dicts\n",
    "        fit_model_dict['%s - %s' %(dataset, model)] = clf\n",
    "        train_pred_dict['%s - %s' %(dataset, model)] = train_preds\n",
    "        train_accuracy_dict['%s - %s' %(dataset, model)] = train_accuracy\n",
    "        train_mse_dict['%s - %s' %(dataset, model)] = train_mse\n",
    "        train_mae_dict['%s - %s' %(dataset, model)] = train_mae\n",
    "        train_r2_dict['%s - %s' %(dataset, model)] = train_r2\n",
    "\n",
    "        #Test preds\n",
    "        test_preds = clf.predict(X_test)\n",
    "        test_accuracy = clf.score(X_test, y_test)\n",
    "        test_mse = mean_squared_error(y_test, test_preds)\n",
    "        test_mae = mean_absolute_error(y_test, test_preds)\n",
    "        test_r2 = r2_score(y_test, test_preds)\n",
    "\n",
    "        #Write outputs to dicts\n",
    "        test_pred_dict['%s - %s' %(dataset, model)] = test_preds\n",
    "        test_accuracy_dict['%s - %s' %(dataset, model)] = test_accuracy\n",
    "        test_mse_dict['%s - %s' %(dataset, model)] = test_mse\n",
    "        test_mae_dict['%s - %s' %(dataset, model)] = test_mae\n",
    "        test_r2_dict['%s - %s' %(dataset, model)] = test_r2\n",
    "\n",
    "        #Console output \n",
    "        print('___' * 50)\n",
    "        print('%s - %s Test Accuracy: ' %(dataset, model) + str(test_accuracy))\n",
    "        print('%s - %s Test MSE: ' %(dataset, model) + str(test_mse))\n",
    "        print('%s -%s Test MAE: ' %(dataset, model) + str(test_mae))\n",
    "        print('%s - %s Test R2: ' %(dataset, model) + str(test_r2))\n",
    "        print('___' * 50)\n",
    "        print('')\n",
    "        print('%s - %s completed' %(dataset, model))\n",
    "        print('___' * 50)\n",
    "        print('')"
   ]
  },
  {
   "cell_type": "code",
   "execution_count": 34,
   "metadata": {},
   "outputs": [
    {
     "data": {
      "image/png": "[encoded data removed]",
      "text/plain": [
       "<Figure size 432x288 with 1 Axes>"
      ]
     },
     "metadata": {
      "needs_background": "light"
     },
     "output_type": "display_data"
    }
   ],
   "source": [
    "#Visualizations\n",
    "path = r'C:\\Users\\kbchi\\Documents\\school\\dsc-672-capstone\\dsc-672-capstone-project\\images\\plots'\n",
    "\n",
    "#Train accuracy\n",
    "plt.clf()\n",
    "plt.bar(range(len(train_accuracy_dict)), list(train_accuracy_dict.values()), align = 'center')\n",
    "plt.xticks(range(len(train_accuracy_dict)), list(train_accuracy_dict.keys()))\n",
    "plt.title('train Accuracy')\n",
    "plt.xticks(rotation=90)\n",
    "plt.tight_layout()\n",
    "plt.savefig(os.path.join(path, 'train_accuracy.jpg'))\n",
    "\n",
    "#Train MSE\n",
    "plt.clf()\n",
    "plt.bar(range(len(train_mse_dict)), list(train_mse_dict.values()), align = 'center')\n",
    "plt.xticks(range(len(train_mse_dict)), list(train_mse_dict.keys()))\n",
    "plt.title('train MSE')\n",
    "plt.xticks(rotation=90)\n",
    "plt.tight_layout()\n",
    "plt.savefig(os.path.join(path, 'train_mse.jpg'))\n",
    "\n",
    "#Train MAE\n",
    "plt.clf()\n",
    "plt.bar(range(len(train_mae_dict)), list(train_mae_dict.values()), align = 'center')\n",
    "plt.xticks(range(len(train_mae_dict)), list(train_mae_dict.keys()))\n",
    "plt.title('train MAE')\n",
    "plt.xticks(rotation=90)\n",
    "plt.tight_layout()\n",
    "plt.savefig(os.path.join(path, 'train_mae.jpg'))\n",
    "\n",
    "#Train R2\n",
    "plt.clf()\n",
    "plt.bar(range(len(train_r2_dict)), list(train_r2_dict.values()), align = 'center')\n",
    "plt.xticks(range(len(train_r2_dict)), list(train_r2_dict.keys()))\n",
    "plt.title('train R2')\n",
    "plt.xticks(rotation=90)\n",
    "plt.tight_layout()\n",
    "plt.savefig(os.path.join(path, 'train_r2.jpg'))\n",
    "\n",
    "#Test accuracy\n",
    "plt.clf()\n",
    "plt.bar(range(len(test_accuracy_dict)), list(test_accuracy_dict.values()), align = 'center')\n",
    "plt.xticks(range(len(test_accuracy_dict)), list(test_accuracy_dict.keys()))\n",
    "plt.title('Test Accuracy')\n",
    "plt.xticks(rotation=90)\n",
    "plt.tight_layout()\n",
    "plt.savefig(os.path.join(path, 'test_accuracy.jpg'))\n",
    "\n",
    "#Test MSE\n",
    "plt.clf()\n",
    "plt.bar(range(len(test_mse_dict)), list(test_mse_dict.values()), align = 'center')\n",
    "plt.xticks(range(len(test_mse_dict)), list(test_mse_dict.keys()))\n",
    "plt.title('Test MSE')\n",
    "plt.xticks(rotation=90)\n",
    "plt.tight_layout()\n",
    "plt.savefig(os.path.join(path, 'test_mse.jpg'))\n",
    "\n",
    "#Test MAE\n",
    "plt.clf()\n",
    "plt.bar(range(len(test_mae_dict)), list(test_mae_dict.values()), align = 'center')\n",
    "plt.xticks(range(len(test_mae_dict)), list(test_mae_dict.keys()))\n",
    "plt.title('Test MAE')\n",
    "plt.xticks(rotation=90)\n",
    "plt.tight_layout()\n",
    "plt.savefig(os.path.join(path, 'test_mae.jpg'))\n",
    "\n",
    "#Test R2\n",
    "plt.clf()\n",
    "plt.bar(range(len(test_r2_dict)), list(test_r2_dict.values()), align = 'center')\n",
    "plt.xticks(range(len(test_r2_dict)), list(test_r2_dict.keys()))\n",
    "plt.title('Test R2')\n",
    "plt.xticks(rotation=90)\n",
    "plt.tight_layout()\n",
    "plt.savefig(os.path.join(path, 'test_r2.jpg'))"
   ]
  },
  {
   "cell_type": "markdown",
   "metadata": {},
   "source": [
    "#### Residuals and Actual vs. Predicted for rfr"
   ]
  },
  {
   "cell_type": "code",
   "execution_count": 86,
   "metadata": {},
   "outputs": [
    {
     "data": {
      "image/png": "[encoded data removed]",
      "text/plain": [
       "<Figure size 864x576 with 1 Axes>"
      ]
     },
     "metadata": {
      "needs_background": "light"
     },
     "output_type": "display_data"
    }
   ],
   "source": [
    "x = np.arange(0, len(y_test))\n",
    "plt.figure(figsize=(12,8))\n",
    "plt.scatter(x, (test_pred_dict['original - rfr'] - y_test))\n",
    "plt.title('Residuals')\n",
    "plt.show()"
   ]
  },
  {
   "cell_type": "code",
   "execution_count": 67,
   "metadata": {},
   "outputs": [
    {
     "data": {
      "image/png": "[encoded data removed]",
      "text/plain": [
       "<Figure size 864x576 with 1 Axes>"
      ]
     },
     "metadata": {
      "needs_background": "light"
     },
     "output_type": "display_data"
    }
   ],
   "source": [
    "x = np.arange(0, len(y_test))\n",
    "plt.figure(figsize=(12,8))\n",
    "plt.plot(x, y_test)\n",
    "plt.plot(x, test_pred_dict['original - rfr'])\n",
    "plt.title('Actual vs. Predicted')\n",
    "plt.show()"
   ]
  },
  {
   "cell_type": "markdown",
   "metadata": {},
   "source": [
    "## Hyperparamter Tuning"
   ]
  },
  {
   "cell_type": "code",
   "execution_count": 56,
   "metadata": {},
   "outputs": [],
   "source": [
    "#Model definition\n",
    "models = ['gradient_boosting']\n",
    "# 'random_forest', 'decision_tree', \n",
    "\n",
    "params_dict = {'random_forest':  {\"min_samples_split\": [3, 5, 10, 15, 20],\n",
    "              \"min_samples_leaf\": [30, 30, 40, 50],\n",
    "              \"bootstrap\": [True, False],\n",
    "              \"criterion\": ['entropy', 'gini'],\n",
    "              \"n_estimators\": [50, 100, 150, 200],\n",
    "              \"random_state\": [23]},\n",
    "            'gradient_boosting': {\"n_estimators\": [50, 100, 150, 200], \"loss\": ['ls', 'lad', 'huber', 'quantile'], \n",
    "              \"learning_rate\": [0.0001, 0.001, 0.01, 0.1, 0.2, 0.3], \"criterion\": ['friedman_mse', 'mse', 'mae'],\n",
    "              \"random_state\": [23]},\n",
    "            'decision_tree': {\"min_samples_split\": [3, 5, 10, 15, 20],\n",
    "              \"min_samples_leaf\": [20, 30, 40, 50],\n",
    "              \"splitter\": ['best', 'random'],\n",
    "              \"criterion\": ['entropy', 'gini'],\n",
    "              \"max_depth\": [50, 100, 150, 200],\n",
    "              \"random_state\": [23]}}"
   ]
  },
  {
   "cell_type": "code",
   "execution_count": null,
   "metadata": {},
   "outputs": [
    {
     "name": "stdout",
     "output_type": "stream",
     "text": [
      "X_train shape: (78973, 29)\n",
      "X_test shape: (33846, 29)\n",
      "y_train shape: (78973,)\n",
      "y_test shape: (33846,)\n",
      "Fitting 5 folds for each of 288 candidates, totalling 1440 fits\n"
     ]
    },
    {
     "name": "stderr",
     "output_type": "stream",
     "text": [
      "[Parallel(n_jobs=5)]: Using backend LokyBackend with 5 concurrent workers.\n",
      "[Parallel(n_jobs=5)]: Done   3 tasks      | elapsed:   14.5s\n",
      "[Parallel(n_jobs=5)]: Done   8 tasks      | elapsed:   38.0s\n",
      "[Parallel(n_jobs=5)]: Done  15 tasks      | elapsed:  1.2min\n",
      "[Parallel(n_jobs=5)]: Done  22 tasks      | elapsed:  2.2min\n",
      "[Parallel(n_jobs=5)]: Done  31 tasks      | elapsed:  3.1min\n",
      "[Parallel(n_jobs=5)]: Done  40 tasks      | elapsed:  3.9min\n",
      "[Parallel(n_jobs=5)]: Done  51 tasks      | elapsed:  5.2min\n",
      "[Parallel(n_jobs=5)]: Done  62 tasks      | elapsed:  6.3min\n",
      "[Parallel(n_jobs=5)]: Done  75 tasks      | elapsed:  7.3min\n",
      "[Parallel(n_jobs=5)]: Done  88 tasks      | elapsed:  8.7min\n",
      "[Parallel(n_jobs=5)]: Done 103 tasks      | elapsed: 10.3min\n",
      "[Parallel(n_jobs=5)]: Done 118 tasks      | elapsed: 12.0min\n",
      "[Parallel(n_jobs=5)]: Done 135 tasks      | elapsed: 13.2min\n",
      "[Parallel(n_jobs=5)]: Done 152 tasks      | elapsed: 15.2min\n",
      "[Parallel(n_jobs=5)]: Done 171 tasks      | elapsed: 17.2min\n",
      "[Parallel(n_jobs=5)]: Done 190 tasks      | elapsed: 18.6min\n",
      "[Parallel(n_jobs=5)]: Done 211 tasks      | elapsed: 21.1min\n",
      "[Parallel(n_jobs=5)]: Done 232 tasks      | elapsed: 23.1min\n",
      "[Parallel(n_jobs=5)]: Done 255 tasks      | elapsed: 25.2min\n",
      "[Parallel(n_jobs=5)]: Done 278 tasks      | elapsed: 27.9min\n",
      "[Parallel(n_jobs=5)]: Done 303 tasks      | elapsed: 30.2min\n",
      "[Parallel(n_jobs=5)]: Done 328 tasks      | elapsed: 32.6min\n",
      "[Parallel(n_jobs=5)]: Done 355 tasks      | elapsed: 35.2min\n",
      "[Parallel(n_jobs=5)]: Done 382 tasks      | elapsed: 38.2min\n",
      "[Parallel(n_jobs=5)]: Done 411 tasks      | elapsed: 41.2min\n",
      "[Parallel(n_jobs=5)]: Done 440 tasks      | elapsed: 44.0min\n",
      "[Parallel(n_jobs=5)]: Done 471 tasks      | elapsed: 47.2min\n",
      "[Parallel(n_jobs=5)]: Done 502 tasks      | elapsed: 50.2min\n",
      "[Parallel(n_jobs=5)]: Done 535 tasks      | elapsed: 53.2min\n",
      "[Parallel(n_jobs=5)]: Done 568 tasks      | elapsed: 56.5min\n",
      "[Parallel(n_jobs=5)]: Done 603 tasks      | elapsed: 60.0min\n",
      "[Parallel(n_jobs=5)]: Done 638 tasks      | elapsed: 63.9min\n",
      "[Parallel(n_jobs=5)]: Done 675 tasks      | elapsed: 67.0min\n",
      "[Parallel(n_jobs=5)]: Done 712 tasks      | elapsed: 70.9min\n",
      "[Parallel(n_jobs=5)]: Done 751 tasks      | elapsed: 75.1min\n",
      "[Parallel(n_jobs=5)]: Done 790 tasks      | elapsed: 79.1min\n",
      "[Parallel(n_jobs=5)]: Done 831 tasks      | elapsed: 83.7min\n",
      "[Parallel(n_jobs=5)]: Done 872 tasks      | elapsed: 87.8min\n",
      "[Parallel(n_jobs=5)]: Done 915 tasks      | elapsed: 91.9min\n",
      "[Parallel(n_jobs=5)]: Done 958 tasks      | elapsed: 96.6min\n"
     ]
    }
   ],
   "source": [
    "#Select columns for model\n",
    "X = dummy_df[dummy_df.columns.difference(['estimated_delivered_days'])]\n",
    "Y = dummy_df.estimated_delivered_days\n",
    "\n",
    "#train_test split\n",
    "X_train, X_test, y_train, y_test = train_test_split(X, Y, test_size = 0.3, random_state = 23)\n",
    "print('X_train shape: ' + str(X_train.shape))\n",
    "print('X_test shape: ' + str(X_test.shape))\n",
    "print('y_train shape: ' + str(y_train.shape))\n",
    "print('y_test shape: ' + str(y_test.shape))\n",
    "\n",
    "#Params for gridsearch\n",
    "params = {\"n_estimators\": [50, 100, 150, 200], \"loss\": ['ls', 'lad', 'huber', 'quantile'], \n",
    "         \"learning_rate\": [0.0001, 0.001, 0.01, 0.1, 0.2, 0.3], \"criterion\": ['friedman_mse', 'mse', 'mae'],\n",
    "         \"random_state\": [23]}\n",
    "\n",
    "#Define/fit gridsearch\n",
    "model = GridSearchCV(GradientBoostingRegressor(), param_grid = params, n_jobs = 5, cv = 5, verbose = 10)\n",
    "model = model.fit(X_train, y_train)"
   ]
  },
  {
   "cell_type": "code",
   "execution_count": 59,
   "metadata": {
    "collapsed": true,
    "jupyter": {
     "outputs_hidden": true
    }
   },
   "outputs": [
    {
     "name": "stdout",
     "output_type": "stream",
     "text": [
      "Fitting 10 folds for each of 288 candidates, totalling 2880 fits\n"
     ]
    },
    {
     "name": "stderr",
     "output_type": "stream",
     "text": [
      "[Parallel(n_jobs=10)]: Using backend LokyBackend with 10 concurrent workers.\n"
     ]
    },
    {
     "ename": "AttributeError",
     "evalue": "'LokyProcess' object has no attribute 'env'",
     "output_type": "error",
     "traceback": [
      "\u001b[1;31m---------------------------------------------------------------------------\u001b[0m",
      "\u001b[1;31mAttributeError\u001b[0m                            Traceback (most recent call last)",
      "\u001b[1;32m<ipython-input-59-818bafdfa5af>\u001b[0m in \u001b[0;36m<module>\u001b[1;34m()\u001b[0m\n\u001b[0;32m      1\u001b[0m \u001b[0mclf\u001b[0m \u001b[1;33m=\u001b[0m \u001b[0mGridSearchCV\u001b[0m\u001b[1;33m(\u001b[0m\u001b[0mGradientBoostingRegressor\u001b[0m\u001b[1;33m(\u001b[0m\u001b[1;33m)\u001b[0m\u001b[1;33m,\u001b[0m \u001b[0mparam_grid\u001b[0m \u001b[1;33m=\u001b[0m \u001b[0mparams_dict\u001b[0m\u001b[1;33m[\u001b[0m\u001b[1;34m'gradient_boosting'\u001b[0m\u001b[1;33m]\u001b[0m\u001b[1;33m,\u001b[0m \u001b[0mn_jobs\u001b[0m \u001b[1;33m=\u001b[0m \u001b[1;36m10\u001b[0m\u001b[1;33m,\u001b[0m \u001b[0mcv\u001b[0m \u001b[1;33m=\u001b[0m \u001b[1;36m10\u001b[0m\u001b[1;33m,\u001b[0m \u001b[0mverbose\u001b[0m \u001b[1;33m=\u001b[0m \u001b[1;36m10\u001b[0m\u001b[1;33m)\u001b[0m\u001b[1;33m\u001b[0m\u001b[1;33m\u001b[0m\u001b[0m\n\u001b[1;32m----> 2\u001b[1;33m \u001b[0mclf\u001b[0m\u001b[1;33m.\u001b[0m\u001b[0mfit\u001b[0m\u001b[1;33m(\u001b[0m\u001b[0mX_train\u001b[0m\u001b[1;33m,\u001b[0m \u001b[0my_train\u001b[0m\u001b[1;33m)\u001b[0m\u001b[1;33m\u001b[0m\u001b[1;33m\u001b[0m\u001b[0m\n\u001b[0m\u001b[0;32m      3\u001b[0m \u001b[1;33m\u001b[0m\u001b[0m\n\u001b[0;32m      4\u001b[0m \u001b[1;31m# #Training preds\u001b[0m\u001b[1;33m\u001b[0m\u001b[1;33m\u001b[0m\u001b[1;33m\u001b[0m\u001b[0m\n\u001b[0;32m      5\u001b[0m \u001b[1;31m# train_preds = clf.predict(X_train)\u001b[0m\u001b[1;33m\u001b[0m\u001b[1;33m\u001b[0m\u001b[1;33m\u001b[0m\u001b[0m\n",
      "\u001b[1;32mC:\\Users\\kbchi\\Anaconda3\\lib\\site-packages\\sklearn\\model_selection\\_search.py\u001b[0m in \u001b[0;36mfit\u001b[1;34m(self, X, y, groups, **fit_params)\u001b[0m\n\u001b[0;32m    708\u001b[0m                 out = parallel(delayed(_fit_and_score)(clone(base_estimator),\n\u001b[0;32m    709\u001b[0m                                                        \u001b[0mX\u001b[0m\u001b[1;33m,\u001b[0m \u001b[0my\u001b[0m\u001b[1;33m,\u001b[0m\u001b[1;33m\u001b[0m\u001b[1;33m\u001b[0m\u001b[0m\n\u001b[1;32m--> 710\u001b[1;33m                                                        \u001b[0mtrain\u001b[0m\u001b[1;33m=\u001b[0m\u001b[0mtrain\u001b[0m\u001b[1;33m,\u001b[0m \u001b[0mtest\u001b[0m\u001b[1;33m=\u001b[0m\u001b[0mtest\u001b[0m\u001b[1;33m,\u001b[0m\u001b[1;33m\u001b[0m\u001b[1;33m\u001b[0m\u001b[0m\n\u001b[0m\u001b[0;32m    711\u001b[0m                                                        \u001b[0mparameters\u001b[0m\u001b[1;33m=\u001b[0m\u001b[0mparameters\u001b[0m\u001b[1;33m,\u001b[0m\u001b[1;33m\u001b[0m\u001b[1;33m\u001b[0m\u001b[0m\n\u001b[0;32m    712\u001b[0m                                                        **fit_and_score_kwargs)\n",
      "\u001b[1;32mC:\\Users\\kbchi\\Anaconda3\\lib\\site-packages\\sklearn\\model_selection\\_search.py\u001b[0m in \u001b[0;36m_run_search\u001b[1;34m(self, evaluate_candidates)\u001b[0m\n\u001b[0;32m   1149\u001b[0m     \u001b[0mIf\u001b[0m\u001b[0;31m \u001b[0m\u001b[0;31m`\u001b[0m\u001b[0mn_jobs\u001b[0m\u001b[0;31m`\u001b[0m \u001b[0mwas\u001b[0m \u001b[0mset\u001b[0m \u001b[0mto\u001b[0m \u001b[0ma\u001b[0m \u001b[0mvalue\u001b[0m \u001b[0mhigher\u001b[0m \u001b[0mthan\u001b[0m \u001b[0mone\u001b[0m\u001b[1;33m,\u001b[0m \u001b[0mthe\u001b[0m \u001b[0mdata\u001b[0m \u001b[1;32mis\u001b[0m \u001b[0mcopied\u001b[0m \u001b[1;32mfor\u001b[0m \u001b[0meach\u001b[0m\u001b[1;33m\u001b[0m\u001b[1;33m\u001b[0m\u001b[0m\n\u001b[0;32m   1150\u001b[0m     \u001b[0mpoint\u001b[0m \u001b[1;32min\u001b[0m \u001b[0mthe\u001b[0m \u001b[0mgrid\u001b[0m \u001b[1;33m(\u001b[0m\u001b[1;32mand\u001b[0m \u001b[1;32mnot\u001b[0m\u001b[0;31m \u001b[0m\u001b[0;31m`\u001b[0m\u001b[0mn_jobs\u001b[0m\u001b[0;31m`\u001b[0m \u001b[0mtimes\u001b[0m\u001b[1;33m)\u001b[0m\u001b[1;33m.\u001b[0m \u001b[0mThis\u001b[0m \u001b[1;32mis\u001b[0m \u001b[0mdone\u001b[0m \u001b[1;32mfor\u001b[0m \u001b[0mefficiency\u001b[0m\u001b[1;33m\u001b[0m\u001b[1;33m\u001b[0m\u001b[0m\n\u001b[1;32m-> 1151\u001b[1;33m     \u001b[0mreasons\u001b[0m \u001b[1;32mif\u001b[0m \u001b[0mindividual\u001b[0m \u001b[0mjobs\u001b[0m \u001b[0mtake\u001b[0m \u001b[0mvery\u001b[0m \u001b[0mlittle\u001b[0m \u001b[0mtime\u001b[0m\u001b[1;33m,\u001b[0m \u001b[0mbut\u001b[0m \u001b[0mmay\u001b[0m \u001b[1;32mraise\u001b[0m \u001b[0merrors\u001b[0m \u001b[1;32mif\u001b[0m\u001b[1;33m\u001b[0m\u001b[1;33m\u001b[0m\u001b[0m\n\u001b[0m\u001b[0;32m   1152\u001b[0m     \u001b[0mthe\u001b[0m \u001b[0mdataset\u001b[0m \u001b[1;32mis\u001b[0m \u001b[0mlarge\u001b[0m \u001b[1;32mand\u001b[0m \u001b[1;32mnot\u001b[0m \u001b[0menough\u001b[0m \u001b[0mmemory\u001b[0m \u001b[1;32mis\u001b[0m \u001b[0mavailable\u001b[0m\u001b[1;33m.\u001b[0m  \u001b[0mA\u001b[0m \u001b[0mworkaround\u001b[0m \u001b[1;32min\u001b[0m\u001b[1;33m\u001b[0m\u001b[1;33m\u001b[0m\u001b[0m\n\u001b[0;32m   1153\u001b[0m     \u001b[0mthis\u001b[0m \u001b[0mcase\u001b[0m \u001b[1;32mis\u001b[0m \u001b[0mto\u001b[0m \u001b[0mset\u001b[0m\u001b[0;31m \u001b[0m\u001b[0;31m`\u001b[0m\u001b[0mpre_dispatch\u001b[0m\u001b[0;31m`\u001b[0m\u001b[1;33m.\u001b[0m \u001b[0mThen\u001b[0m\u001b[1;33m,\u001b[0m \u001b[0mthe\u001b[0m \u001b[0mmemory\u001b[0m \u001b[1;32mis\u001b[0m \u001b[0mcopied\u001b[0m \u001b[0monly\u001b[0m\u001b[1;33m\u001b[0m\u001b[1;33m\u001b[0m\u001b[0m\n",
      "\u001b[1;32mC:\\Users\\kbchi\\Anaconda3\\lib\\site-packages\\sklearn\\model_selection\\_search.py\u001b[0m in \u001b[0;36mevaluate_candidates\u001b[1;34m(candidate_params)\u001b[0m\n\u001b[0;32m    687\u001b[0m                                     \u001b[0mfit_params\u001b[0m\u001b[1;33m=\u001b[0m\u001b[0mfit_params\u001b[0m\u001b[1;33m,\u001b[0m\u001b[1;33m\u001b[0m\u001b[1;33m\u001b[0m\u001b[0m\n\u001b[0;32m    688\u001b[0m                                     \u001b[0mreturn_train_score\u001b[0m\u001b[1;33m=\u001b[0m\u001b[0mself\u001b[0m\u001b[1;33m.\u001b[0m\u001b[0mreturn_train_score\u001b[0m\u001b[1;33m,\u001b[0m\u001b[1;33m\u001b[0m\u001b[1;33m\u001b[0m\u001b[0m\n\u001b[1;32m--> 689\u001b[1;33m                                     \u001b[0mreturn_n_test_samples\u001b[0m\u001b[1;33m=\u001b[0m\u001b[1;32mTrue\u001b[0m\u001b[1;33m,\u001b[0m\u001b[1;33m\u001b[0m\u001b[1;33m\u001b[0m\u001b[0m\n\u001b[0m\u001b[0;32m    690\u001b[0m                                     \u001b[0mreturn_times\u001b[0m\u001b[1;33m=\u001b[0m\u001b[1;32mTrue\u001b[0m\u001b[1;33m,\u001b[0m\u001b[1;33m\u001b[0m\u001b[1;33m\u001b[0m\u001b[0m\n\u001b[0;32m    691\u001b[0m                                     \u001b[0mreturn_parameters\u001b[0m\u001b[1;33m=\u001b[0m\u001b[1;32mFalse\u001b[0m\u001b[1;33m,\u001b[0m\u001b[1;33m\u001b[0m\u001b[1;33m\u001b[0m\u001b[0m\n",
      "\u001b[1;32mC:\\Users\\kbchi\\Anaconda3\\lib\\site-packages\\joblib\\parallel.py\u001b[0m in \u001b[0;36m__call__\u001b[1;34m(self, iterable)\u001b[0m\n\u001b[0;32m    919\u001b[0m         \u001b[0mself\u001b[0m\u001b[1;33m.\u001b[0m\u001b[0m_output\u001b[0m \u001b[1;33m=\u001b[0m \u001b[0mlist\u001b[0m\u001b[1;33m(\u001b[0m\u001b[1;33m)\u001b[0m\u001b[1;33m\u001b[0m\u001b[1;33m\u001b[0m\u001b[0m\n\u001b[0;32m    920\u001b[0m         \u001b[1;32mwhile\u001b[0m \u001b[0mself\u001b[0m\u001b[1;33m.\u001b[0m\u001b[0m_iterating\u001b[0m \u001b[1;32mor\u001b[0m \u001b[0mlen\u001b[0m\u001b[1;33m(\u001b[0m\u001b[0mself\u001b[0m\u001b[1;33m.\u001b[0m\u001b[0m_jobs\u001b[0m\u001b[1;33m)\u001b[0m \u001b[1;33m>\u001b[0m \u001b[1;36m0\u001b[0m\u001b[1;33m:\u001b[0m\u001b[1;33m\u001b[0m\u001b[1;33m\u001b[0m\u001b[0m\n\u001b[1;32m--> 921\u001b[1;33m             \u001b[1;32mif\u001b[0m \u001b[0mlen\u001b[0m\u001b[1;33m(\u001b[0m\u001b[0mself\u001b[0m\u001b[1;33m.\u001b[0m\u001b[0m_jobs\u001b[0m\u001b[1;33m)\u001b[0m \u001b[1;33m==\u001b[0m \u001b[1;36m0\u001b[0m\u001b[1;33m:\u001b[0m\u001b[1;33m\u001b[0m\u001b[1;33m\u001b[0m\u001b[0m\n\u001b[0m\u001b[0;32m    922\u001b[0m                 \u001b[1;31m# Wait for an async callback to dispatch new jobs\u001b[0m\u001b[1;33m\u001b[0m\u001b[1;33m\u001b[0m\u001b[1;33m\u001b[0m\u001b[0m\n\u001b[0;32m    923\u001b[0m                 \u001b[0mtime\u001b[0m\u001b[1;33m.\u001b[0m\u001b[0msleep\u001b[0m\u001b[1;33m(\u001b[0m\u001b[1;36m0.01\u001b[0m\u001b[1;33m)\u001b[0m\u001b[1;33m\u001b[0m\u001b[1;33m\u001b[0m\u001b[0m\n",
      "\u001b[1;32mC:\\Users\\kbchi\\Anaconda3\\lib\\site-packages\\joblib\\parallel.py\u001b[0m in \u001b[0;36mdispatch_one_batch\u001b[1;34m(self, iterator)\u001b[0m\n\u001b[0;32m    757\u001b[0m             \u001b[0mself\u001b[0m\u001b[1;33m.\u001b[0m\u001b[0m_backend\u001b[0m\u001b[1;33m.\u001b[0m\u001b[0mterminate\u001b[0m\u001b[1;33m(\u001b[0m\u001b[1;33m)\u001b[0m\u001b[1;33m\u001b[0m\u001b[1;33m\u001b[0m\u001b[0m\n\u001b[0;32m    758\u001b[0m \u001b[1;33m\u001b[0m\u001b[0m\n\u001b[1;32m--> 759\u001b[1;33m     \u001b[1;32mdef\u001b[0m \u001b[0m_dispatch\u001b[0m\u001b[1;33m(\u001b[0m\u001b[0mself\u001b[0m\u001b[1;33m,\u001b[0m \u001b[0mbatch\u001b[0m\u001b[1;33m)\u001b[0m\u001b[1;33m:\u001b[0m\u001b[1;33m\u001b[0m\u001b[1;33m\u001b[0m\u001b[0m\n\u001b[0m\u001b[0;32m    760\u001b[0m         \"\"\"Queue the batch for computing, with or without multiprocessing\n\u001b[0;32m    761\u001b[0m \u001b[1;33m\u001b[0m\u001b[0m\n",
      "\u001b[1;32mC:\\Users\\kbchi\\Anaconda3\\lib\\site-packages\\joblib\\parallel.py\u001b[0m in \u001b[0;36m_dispatch\u001b[1;34m(self, batch)\u001b[0m\n\u001b[0;32m    714\u001b[0m         \u001b[0mself\u001b[0m\u001b[1;33m.\u001b[0m\u001b[0m_jobs\u001b[0m \u001b[1;33m=\u001b[0m \u001b[0mlist\u001b[0m\u001b[1;33m(\u001b[0m\u001b[1;33m)\u001b[0m\u001b[1;33m\u001b[0m\u001b[1;33m\u001b[0m\u001b[0m\n\u001b[0;32m    715\u001b[0m         \u001b[0mself\u001b[0m\u001b[1;33m.\u001b[0m\u001b[0m_managed_backend\u001b[0m \u001b[1;33m=\u001b[0m \u001b[1;32mFalse\u001b[0m\u001b[1;33m\u001b[0m\u001b[1;33m\u001b[0m\u001b[0m\n\u001b[1;32m--> 716\u001b[1;33m \u001b[1;33m\u001b[0m\u001b[0m\n\u001b[0m\u001b[0;32m    717\u001b[0m         \u001b[1;31m# This lock is used coordinate the main thread of this process with\u001b[0m\u001b[1;33m\u001b[0m\u001b[1;33m\u001b[0m\u001b[1;33m\u001b[0m\u001b[0m\n\u001b[0;32m    718\u001b[0m         \u001b[1;31m# the async callback thread of our the pool.\u001b[0m\u001b[1;33m\u001b[0m\u001b[1;33m\u001b[0m\u001b[1;33m\u001b[0m\u001b[0m\n",
      "\u001b[1;32mC:\\Users\\kbchi\\Anaconda3\\lib\\site-packages\\joblib\\_parallel_backends.py\u001b[0m in \u001b[0;36mapply_async\u001b[1;34m(self, func, callback)\u001b[0m\n\u001b[0;32m    508\u001b[0m             \u001b[1;32mreturn\u001b[0m \u001b[1;36m1\u001b[0m\u001b[1;33m\u001b[0m\u001b[1;33m\u001b[0m\u001b[0m\n\u001b[0;32m    509\u001b[0m         \u001b[1;32melif\u001b[0m \u001b[0mmp\u001b[0m\u001b[1;33m.\u001b[0m\u001b[0mcurrent_process\u001b[0m\u001b[1;33m(\u001b[0m\u001b[1;33m)\u001b[0m\u001b[1;33m.\u001b[0m\u001b[0mdaemon\u001b[0m\u001b[1;33m:\u001b[0m\u001b[1;33m\u001b[0m\u001b[1;33m\u001b[0m\u001b[0m\n\u001b[1;32m--> 510\u001b[1;33m             \u001b[1;31m# Daemonic processes cannot have children\u001b[0m\u001b[1;33m\u001b[0m\u001b[1;33m\u001b[0m\u001b[1;33m\u001b[0m\u001b[0m\n\u001b[0m\u001b[0;32m    511\u001b[0m             \u001b[1;32mif\u001b[0m \u001b[0mn_jobs\u001b[0m \u001b[1;33m!=\u001b[0m \u001b[1;36m1\u001b[0m\u001b[1;33m:\u001b[0m\u001b[1;33m\u001b[0m\u001b[1;33m\u001b[0m\u001b[0m\n\u001b[0;32m    512\u001b[0m                 warnings.warn(\n",
      "\u001b[1;32mC:\\Users\\kbchi\\Anaconda3\\lib\\site-packages\\joblib\\externals\\loky\\reusable_executor.py\u001b[0m in \u001b[0;36msubmit\u001b[1;34m(self, fn, *args, **kwargs)\u001b[0m\n\u001b[0;32m    149\u001b[0m                         or not reuse):\n\u001b[0;32m    150\u001b[0m                     \u001b[1;32mif\u001b[0m \u001b[0mexecutor\u001b[0m\u001b[1;33m.\u001b[0m\u001b[0m_flags\u001b[0m\u001b[1;33m.\u001b[0m\u001b[0mbroken\u001b[0m\u001b[1;33m:\u001b[0m\u001b[1;33m\u001b[0m\u001b[1;33m\u001b[0m\u001b[0m\n\u001b[1;32m--> 151\u001b[1;33m                         \u001b[0mreason\u001b[0m \u001b[1;33m=\u001b[0m \u001b[1;34m\"broken\"\u001b[0m\u001b[1;33m\u001b[0m\u001b[1;33m\u001b[0m\u001b[0m\n\u001b[0m\u001b[0;32m    152\u001b[0m                     \u001b[1;32melif\u001b[0m \u001b[0mexecutor\u001b[0m\u001b[1;33m.\u001b[0m\u001b[0m_flags\u001b[0m\u001b[1;33m.\u001b[0m\u001b[0mshutdown\u001b[0m\u001b[1;33m:\u001b[0m\u001b[1;33m\u001b[0m\u001b[1;33m\u001b[0m\u001b[0m\n\u001b[0;32m    153\u001b[0m                         \u001b[0mreason\u001b[0m \u001b[1;33m=\u001b[0m \u001b[1;34m\"shutdown\"\u001b[0m\u001b[1;33m\u001b[0m\u001b[1;33m\u001b[0m\u001b[0m\n",
      "\u001b[1;32mC:\\Users\\kbchi\\Anaconda3\\lib\\site-packages\\joblib\\externals\\loky\\process_executor.py\u001b[0m in \u001b[0;36msubmit\u001b[1;34m(self, fn, *args, **kwargs)\u001b[0m\n\u001b[0;32m   1040\u001b[0m             \u001b[1;31m# if there is no pending work item.\u001b[0m\u001b[1;33m\u001b[0m\u001b[1;33m\u001b[0m\u001b[1;33m\u001b[0m\u001b[0m\n\u001b[0;32m   1041\u001b[0m             def weakref_cb(\n\u001b[1;32m-> 1042\u001b[1;33m                     \u001b[0m_\u001b[0m\u001b[1;33m,\u001b[0m \u001b[0mthread_wakeup\u001b[0m\u001b[1;33m=\u001b[0m\u001b[0mself\u001b[0m\u001b[1;33m.\u001b[0m\u001b[0m_executor_manager_thread_wakeup\u001b[0m\u001b[1;33m,\u001b[0m\u001b[1;33m\u001b[0m\u001b[1;33m\u001b[0m\u001b[0m\n\u001b[0m\u001b[0;32m   1043\u001b[0m                     shutdown_lock=self._shutdown_lock):\n\u001b[0;32m   1044\u001b[0m                 mp.util.debug('Executor collected: triggering callback for'\n",
      "\u001b[1;32mC:\\Users\\kbchi\\Anaconda3\\lib\\site-packages\\joblib\\externals\\loky\\process_executor.py\u001b[0m in \u001b[0;36m_ensure_executor_running\u001b[1;34m(self)\u001b[0m\n\u001b[0;32m   1014\u001b[0m \u001b[1;33m\u001b[0m\u001b[0m\n\u001b[0;32m   1015\u001b[0m     \u001b[1;32mdef\u001b[0m \u001b[0m_setup_queues\u001b[0m\u001b[1;33m(\u001b[0m\u001b[0mself\u001b[0m\u001b[1;33m,\u001b[0m \u001b[0mjob_reducers\u001b[0m\u001b[1;33m,\u001b[0m \u001b[0mresult_reducers\u001b[0m\u001b[1;33m,\u001b[0m \u001b[0mqueue_size\u001b[0m\u001b[1;33m=\u001b[0m\u001b[1;32mNone\u001b[0m\u001b[1;33m)\u001b[0m\u001b[1;33m:\u001b[0m\u001b[1;33m\u001b[0m\u001b[1;33m\u001b[0m\u001b[0m\n\u001b[1;32m-> 1016\u001b[1;33m         \u001b[1;31m# Make the call queue slightly larger than the number of processes to\u001b[0m\u001b[1;33m\u001b[0m\u001b[1;33m\u001b[0m\u001b[1;33m\u001b[0m\u001b[0m\n\u001b[0m\u001b[0;32m   1017\u001b[0m         \u001b[1;31m# prevent the worker processes from idling. But don't make it too big\u001b[0m\u001b[1;33m\u001b[0m\u001b[1;33m\u001b[0m\u001b[1;33m\u001b[0m\u001b[0m\n\u001b[0;32m   1018\u001b[0m         \u001b[1;31m# because futures in the call queue cannot be cancelled.\u001b[0m\u001b[1;33m\u001b[0m\u001b[1;33m\u001b[0m\u001b[1;33m\u001b[0m\u001b[0m\n",
      "\u001b[1;32mC:\\Users\\kbchi\\Anaconda3\\lib\\site-packages\\joblib\\externals\\loky\\process_executor.py\u001b[0m in \u001b[0;36m_adjust_process_count\u001b[1;34m(self)\u001b[0m\n\u001b[0;32m   1005\u001b[0m \u001b[1;33m\u001b[0m\u001b[0m\n\u001b[0;32m   1006\u001b[0m         \u001b[1;31m# Flag to hold the state of the Executor. This permits to introspect\u001b[0m\u001b[1;33m\u001b[0m\u001b[1;33m\u001b[0m\u001b[1;33m\u001b[0m\u001b[0m\n\u001b[1;32m-> 1007\u001b[1;33m         \u001b[1;31m# the Executor state even once it has been garbage collected.\u001b[0m\u001b[1;33m\u001b[0m\u001b[1;33m\u001b[0m\u001b[1;33m\u001b[0m\u001b[0m\n\u001b[0m\u001b[0;32m   1008\u001b[0m         \u001b[0mself\u001b[0m\u001b[1;33m.\u001b[0m\u001b[0m_flags\u001b[0m \u001b[1;33m=\u001b[0m \u001b[0m_ExecutorFlags\u001b[0m\u001b[1;33m(\u001b[0m\u001b[0mself\u001b[0m\u001b[1;33m.\u001b[0m\u001b[0m_shutdown_lock\u001b[0m\u001b[1;33m)\u001b[0m\u001b[1;33m\u001b[0m\u001b[1;33m\u001b[0m\u001b[0m\n\u001b[0;32m   1009\u001b[0m \u001b[1;33m\u001b[0m\u001b[0m\n",
      "\u001b[1;32mC:\\Users\\kbchi\\Anaconda3\\lib\\multiprocessing\\process.py\u001b[0m in \u001b[0;36mstart\u001b[1;34m(self)\u001b[0m\n\u001b[0;32m    110\u001b[0m                \u001b[1;34m'daemonic processes are not allowed to have children'\u001b[0m\u001b[1;33m\u001b[0m\u001b[1;33m\u001b[0m\u001b[0m\n\u001b[0;32m    111\u001b[0m         \u001b[0m_cleanup\u001b[0m\u001b[1;33m(\u001b[0m\u001b[1;33m)\u001b[0m\u001b[1;33m\u001b[0m\u001b[1;33m\u001b[0m\u001b[0m\n\u001b[1;32m--> 112\u001b[1;33m         \u001b[0mself\u001b[0m\u001b[1;33m.\u001b[0m\u001b[0m_popen\u001b[0m \u001b[1;33m=\u001b[0m \u001b[0mself\u001b[0m\u001b[1;33m.\u001b[0m\u001b[0m_Popen\u001b[0m\u001b[1;33m(\u001b[0m\u001b[0mself\u001b[0m\u001b[1;33m)\u001b[0m\u001b[1;33m\u001b[0m\u001b[1;33m\u001b[0m\u001b[0m\n\u001b[0m\u001b[0;32m    113\u001b[0m         \u001b[0mself\u001b[0m\u001b[1;33m.\u001b[0m\u001b[0m_sentinel\u001b[0m \u001b[1;33m=\u001b[0m \u001b[0mself\u001b[0m\u001b[1;33m.\u001b[0m\u001b[0m_popen\u001b[0m\u001b[1;33m.\u001b[0m\u001b[0msentinel\u001b[0m\u001b[1;33m\u001b[0m\u001b[1;33m\u001b[0m\u001b[0m\n\u001b[0;32m    114\u001b[0m         \u001b[1;31m# Avoid a refcycle if the target function holds an indirect\u001b[0m\u001b[1;33m\u001b[0m\u001b[1;33m\u001b[0m\u001b[1;33m\u001b[0m\u001b[0m\n",
      "\u001b[1;32mC:\\Users\\kbchi\\Anaconda3\\lib\\site-packages\\joblib\\externals\\loky\\backend\\process.py\u001b[0m in \u001b[0;36m_Popen\u001b[1;34m(process_obj)\u001b[0m\n\u001b[0;32m     35\u001b[0m         \u001b[1;32mif\u001b[0m \u001b[0msys\u001b[0m\u001b[1;33m.\u001b[0m\u001b[0mplatform\u001b[0m \u001b[1;33m==\u001b[0m \u001b[1;34m\"win32\"\u001b[0m\u001b[1;33m:\u001b[0m\u001b[1;33m\u001b[0m\u001b[1;33m\u001b[0m\u001b[0m\n\u001b[0;32m     36\u001b[0m             \u001b[1;32mfrom\u001b[0m \u001b[1;33m.\u001b[0m\u001b[0mpopen_loky_win32\u001b[0m \u001b[1;32mimport\u001b[0m \u001b[0mPopen\u001b[0m\u001b[1;33m\u001b[0m\u001b[1;33m\u001b[0m\u001b[0m\n\u001b[1;32m---> 37\u001b[1;33m         \u001b[1;32melse\u001b[0m\u001b[1;33m:\u001b[0m\u001b[1;33m\u001b[0m\u001b[1;33m\u001b[0m\u001b[0m\n\u001b[0m\u001b[0;32m     38\u001b[0m             \u001b[1;32mfrom\u001b[0m \u001b[1;33m.\u001b[0m\u001b[0mpopen_loky_posix\u001b[0m \u001b[1;32mimport\u001b[0m \u001b[0mPopen\u001b[0m\u001b[1;33m\u001b[0m\u001b[1;33m\u001b[0m\u001b[0m\n\u001b[0;32m     39\u001b[0m         \u001b[1;32mreturn\u001b[0m \u001b[0mPopen\u001b[0m\u001b[1;33m(\u001b[0m\u001b[0mprocess_obj\u001b[0m\u001b[1;33m)\u001b[0m\u001b[1;33m\u001b[0m\u001b[1;33m\u001b[0m\u001b[0m\n",
      "\u001b[1;32mC:\\Users\\kbchi\\Anaconda3\\lib\\site-packages\\joblib\\externals\\loky\\backend\\popen_loky_win32.py\u001b[0m in \u001b[0;36m__init__\u001b[1;34m(self, process_obj)\u001b[0m\n\u001b[0;32m     68\u001b[0m         \u001b[1;31m# copy the environment variables to set in the child process\u001b[0m\u001b[1;33m\u001b[0m\u001b[1;33m\u001b[0m\u001b[1;33m\u001b[0m\u001b[0m\n\u001b[0;32m     69\u001b[0m         \u001b[0mchild_env\u001b[0m \u001b[1;33m=\u001b[0m \u001b[0mos\u001b[0m\u001b[1;33m.\u001b[0m\u001b[0menviron\u001b[0m\u001b[1;33m.\u001b[0m\u001b[0mcopy\u001b[0m\u001b[1;33m(\u001b[0m\u001b[1;33m)\u001b[0m\u001b[1;33m\u001b[0m\u001b[1;33m\u001b[0m\u001b[0m\n\u001b[1;32m---> 70\u001b[1;33m         \u001b[0mchild_env\u001b[0m\u001b[1;33m.\u001b[0m\u001b[0mupdate\u001b[0m\u001b[1;33m(\u001b[0m\u001b[0mprocess_obj\u001b[0m\u001b[1;33m.\u001b[0m\u001b[0menv\u001b[0m\u001b[1;33m)\u001b[0m\u001b[1;33m\u001b[0m\u001b[1;33m\u001b[0m\u001b[0m\n\u001b[0m\u001b[0;32m     71\u001b[0m \u001b[1;33m\u001b[0m\u001b[0m\n\u001b[0;32m     72\u001b[0m         \u001b[1;31m# bpo-35797: When running in a venv, we bypass the redirect\u001b[0m\u001b[1;33m\u001b[0m\u001b[1;33m\u001b[0m\u001b[1;33m\u001b[0m\u001b[0m\n",
      "\u001b[1;31mAttributeError\u001b[0m: 'LokyProcess' object has no attribute 'env'"
     ]
    }
   ],
   "source": [
    "clf = GridSearchCV(GradientBoostingRegressor(), param_grid = params_dict['gradient_boosting'], n_jobs = 10, cv = 10, verbose = 10)\n",
    "clf.fit(X_train, y_train)\n",
    "\n",
    "# #Training preds                  \n",
    "# train_preds = clf.predict(X_train)\n",
    "# train_accuracy = clf.score(X_train, y_train)\n",
    "# train_mse = mean_squared_error(y_train, train_preds)\n",
    "# train_mae = mean_absolute_error(y_train, train_preds)\n",
    "# train_r2 = r2_score(y_train, train_preds)\n",
    "\n",
    "# #Write outputs to dicts\n",
    "# fit_model_dict['%s' %(model)] = clf\n",
    "# train_pred_dict['%s' %(model)] = train_preds\n",
    "# train_accuracy_dict['%s' %(model)] = train_accuracy\n",
    "# train_mse_dict['%s' %(model)] = train_mse\n",
    "# train_mae_dict['%s' %(model)] = train_mae\n",
    "# train_r2_dict['%s' %(model)] = train_r2\n",
    "\n",
    "# #Test preds\n",
    "# test_preds = clf.predict(X_test)\n",
    "# test_accuracy = clf.score(X_test, y_test)\n",
    "# test_mse = mean_squared_error(y_test, test_preds)\n",
    "# test_mae = mean_absolute_error(y_test, test_preds)\n",
    "# test_r2 = r2_score(y_test, test_preds)\n",
    "\n",
    "# #Write outputs to dicts\n",
    "# fit_model_dict['%s' %(model)] = clf\n",
    "# train_pred_dict['%s' %(model)] = test_preds\n",
    "# train_accuracy_dict['%s' %(model)] = test_accuracy\n",
    "# train_mse_dict['%s' %(model)] = test_mse\n",
    "# train_mae_dict['%s' %(model)] = test_mae\n",
    "# train_r2_dict['%s' %(model)] = test_r2"
   ]
  }
 ],
 "metadata": {
  "kernelspec": {
   "display_name": "Python 3",
   "language": "python",
   "name": "python3"
  },
  "language_info": {
   "codemirror_mode": {
    "name": "ipython",
    "version": 3
   },
   "file_extension": ".py",
   "mimetype": "text/x-python",
   "name": "python",
   "nbconvert_exporter": "python",
   "pygments_lexer": "ipython3",
   "version": "3.7.4"
  }
 },
 "nbformat": 4,
 "nbformat_minor": 4
}
