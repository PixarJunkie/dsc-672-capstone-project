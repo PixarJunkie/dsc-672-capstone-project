{
 "cells": [
  {
   "cell_type": "code",
   "execution_count": 64,
   "metadata": {},
   "outputs": [],
   "source": [
    "import pandas as pd\n",
    "import numpy as np\n",
    "import os\n",
    "from difflib import SequenceMatcher"
   ]
  },
  {
   "cell_type": "code",
   "execution_count": 2,
   "metadata": {},
   "outputs": [],
   "source": [
    "#Set working directories \n",
    "citites = r'C:\\Users\\kbchi\\Documents\\school\\dsc-672-capstone\\data\\Cities\\Cities Responses'\n",
    "corp_climate = r'C:\\Users\\kbchi\\Documents\\school\\dsc-672-capstone\\data\\Corporations\\Corporations Responses\\Climate Change'\n",
    "corp_water = r'C:\\Users\\kbchi\\Documents\\school\\dsc-672-capstone\\data\\Corporations\\Corporations Responses\\Water Security'\n",
    "supp_data = r'C:\\Users\\kbchi\\Documents\\school\\dsc-672-capstone\\data\\Supplementary Data'"
   ]
  },
  {
   "cell_type": "markdown",
   "metadata": {},
   "source": [
    "# Cities"
   ]
  },
  {
   "cell_type": "code",
   "execution_count": 3,
   "metadata": {},
   "outputs": [],
   "source": [
    "#Change directory\n",
    "os.chdir(citites)\n",
    "os.listdir()\n",
    "\n",
    "#Load data \n",
    "\n",
    "#2018\n",
    "responses_2018 = pd.read_csv(r'2018_Full_Cities_Dataset.csv')\n",
    "#2019\n",
    "responses_2019 = pd.read_csv(r'2019_Full_Cities_Dataset.csv')\n",
    "#2020\n",
    "responses_2020 = pd.read_csv(r'2020_Full_Cities_Dataset.csv')"
   ]
  },
  {
   "cell_type": "code",
   "execution_count": 4,
   "metadata": {},
   "outputs": [],
   "source": [
    "#Columns\n",
    "columns_2018 = responses_2018.columns\n",
    "columns_2019 = responses_2019.columns\n",
    "columns_2020 = responses_2020.columns"
   ]
  },
  {
   "cell_type": "code",
   "execution_count": 5,
   "metadata": {},
   "outputs": [
    {
     "name": "stdout",
     "output_type": "stream",
     "text": [
      "2018: 18\n",
      "2019: 18\n",
      "2020: 18\n"
     ]
    }
   ],
   "source": [
    "print('2018: ' + str(len(columns_2018)))\n",
    "print('2019: ' + str(len(columns_2019)))\n",
    "print('2020: ' + str(len(columns_2020)))"
   ]
  },
  {
   "cell_type": "code",
   "execution_count": 6,
   "metadata": {},
   "outputs": [
    {
     "name": "stdout",
     "output_type": "stream",
     "text": [
      "[]\n",
      "[]\n"
     ]
    }
   ],
   "source": [
    "#Check column names are the same \n",
    "print([col for col in columns_2018 if col not in columns_2019])\n",
    "print([col for col in columns_2018 if col not in columns_2020])"
   ]
  },
  {
   "cell_type": "code",
   "execution_count": 8,
   "metadata": {},
   "outputs": [
    {
     "data": {
      "text/plain": [
       "['Questionnaire',\n",
       " 'Year Reported to CDP',\n",
       " 'Account Number',\n",
       " 'Organization',\n",
       " 'Country',\n",
       " 'CDP Region',\n",
       " 'Parent Section',\n",
       " 'Section',\n",
       " 'Question Number',\n",
       " 'Question Name',\n",
       " 'Column Number',\n",
       " 'Column Name',\n",
       " 'Row Number',\n",
       " 'Row Name',\n",
       " 'Response Answer',\n",
       " 'Comments',\n",
       " 'File Name',\n",
       " 'Last update']"
      ]
     },
     "execution_count": 8,
     "metadata": {},
     "output_type": "execute_result"
    }
   ],
   "source": [
    "list(columns_2018)"
   ]
  },
  {
   "cell_type": "code",
   "execution_count": 31,
   "metadata": {},
   "outputs": [
    {
     "name": "stdout",
     "output_type": "stream",
     "text": [
      "2018: 167\n"
     ]
    }
   ],
   "source": [
    "#Number of unique questions\n",
    "print('2018: ' + str(responses_2018['Question Name'].nunique()))\n",
    "print('2019: ' + str(responses_2018['Question Name'].nunique()))\n",
    "print('2020: ' + str(responses_2018['Question Name'].nunique()))"
   ]
  },
  {
   "cell_type": "code",
   "execution_count": 73,
   "metadata": {},
   "outputs": [],
   "source": [
    "#Check wording of questions\n",
    "questions_2018 = responses_2018['Question Name'].str.lower().unique()\n",
    "questions_2019 = responses_2019['Question Name'].str.lower().unique()\n",
    "questions_2020 = responses_2020['Question Name'].str.lower().unique()"
   ]
  },
  {
   "cell_type": "code",
   "execution_count": 55,
   "metadata": {},
   "outputs": [],
   "source": [
    "#Write missing questions to csv\n",
    "pd.DataFrame([question for question in questions_2018 if question not in questions_2019]).to_csv('2018_not_in_2019.csv')\n",
    "pd.DataFrame([question for question in questions_2018 if question not in questions_2020]).to_csv('2018_not_in_2020.csv')\n",
    "pd.DataFrame([question for question in questions_2019 if question not in questions_2020]).to_csv('2019_not_in_2020.csv')"
   ]
  },
  {
   "cell_type": "code",
   "execution_count": 59,
   "metadata": {},
   "outputs": [],
   "source": [
    "string_2019 = 'Please list the most significant climate hazards faced by your city and indicate the probability and consequence of these hazards, as well as the expected future change in frequency and intensity. Please also select the most relevant assets or services that are affected by the climate hazard and provide a description of the impact.'.lower().replace(' ', '')\n",
    "string_2018 = questions_2018[1]"
   ]
  },
  {
   "cell_type": "code",
   "execution_count": 75,
   "metadata": {},
   "outputs": [],
   "source": [
    "questions_2018_not_2019 = [question for question in questions_2018 if question not in questions_2019]\n",
    "question_2018_not_2020 = [question for question in questions_2018 if question not in questions_2020]\n",
    "question_2019_not_2020 = [question for question in questions_2019 if question not in questions_2020]"
   ]
  },
  {
   "cell_type": "code",
   "execution_count": 65,
   "metadata": {},
   "outputs": [],
   "source": [
    "def similar(a, b):\n",
    "    return SequenceMatcher(None, a, b).ratio()"
   ]
  },
  {
   "cell_type": "code",
   "execution_count": 80,
   "metadata": {},
   "outputs": [
    {
     "name": "stdout",
     "output_type": "stream",
     "text": [
      "2018 question: please list the most significant climate hazards faced by your city and indicate the probability and consequence of these hazards, as well as the expected future change in frequency and intensity.  please also select the top 3 assets or services that are affected by the climate hazard, and provide a description of the impact.\n",
      " 2019 question: please list the most significant climate hazards faced by your city and indicate the probability and consequence of these hazards, as well as the expected future change in frequency and intensity. please also select the most relevant assets or services that are affected by the climate hazard and provide a description of the impact.\n",
      "2018 question: please indicate if your city-wide emissions have increased, decreased, or stayed the same since your last emissions inventory, and please describe why.\n",
      " 2019 question: please indicate if your city-wide emissions have increased, decreased, or stayed the same since your last emissions inventory, and describe why.\n",
      "2018 question: please indicate if your city-wide emissions have increased, decreased, or stayed the same since your last emissions inventory, and please describe why.\n",
      " 2019 question: please indicate if your local government operations emissions have increased, decreased, or stayed the same since your last emissions inventory, and please describe why.\n",
      "2018 question: please identify the factors that most greatly affect your city’s ability to adapt to climate change, and indicate how those factors either enhance or challenge this ability.\n",
      " 2019 question: please identify and describe the factors that most greatly affect your city’s ability to adapt to climate change and indicate how those factors either support or challenge this ability.\n",
      "2018 question: please attach and provide details on your climate change risk or vulnerability assessment. please provide details on the boundary of your assessment, and where this differs from your city’s boundary, please provide an explanation.\n",
      " 2019 question: please attach and provide details on your climate change risk and vulnerability assessment. please provide details on the boundary of your assessment, and where this differs from your city’s boundary, please provide an explanation.\n",
      "2018 question: has a climate change risk or vulnerability assessment been undertaken for your local government area?\n",
      " 2019 question: has a climate change risk and vulnerability assessment been undertaken for the city area?\n",
      "2018 question: please describe the actions you are taking to reduce the risk to, or vulnerability of, your city’s infrastructure, services, citizens, and businesses from climate change as identified in the climate hazards section.\n",
      " 2019 question: please describe the main actions you are taking to reduce the risk to, and vulnerability of, your city’s infrastructure, services, citizens, and businesses from climate change as identified in the climate hazards section.\n",
      "2018 question: what is the mode share of each transport mode in your city?\n",
      " 2019 question: what is the mode share of each transport mode in your city for passenger transport?\n",
      "2018 question: what is the mode share of each transport mode in your city?\n",
      " 2019 question: what is the mode share of each transport mode in your city for freight transport?\n",
      "2018 question: please explain why you do not have a city climate change action plan and any future plans to create one.\n",
      " 2019 question: please explain why you do not have a city climate change mitigation plan and any future plans to create one.\n",
      "2018 question: has your city council published a plan that addresses climate change adaptation?\n",
      " 2019 question: does your city council have a published plan that addresses climate change adaptation?\n",
      "2018 question: please state the dates of the accounting year or 12-month period for which you are reporting a city-wide  ghg emissions inventory.\n",
      " 2019 question: please state the dates of the accounting year or 12-month period for which you are reporting an emissions inventory for your local government operations.\n",
      "2018 question: please state the dates of the accounting year or 12-month period for which you are reporting a city-wide  ghg emissions inventory.\n",
      " 2019 question: please state the dates of the accounting year or 12-month period for which you are reporting your latest city-wide ghg emissions inventory.\n",
      "2018 question: please provide details of your total city-wide base year intensity target. an intensity target is usually measured per capita or per unit gdp. if you have an absolute emissions reduction target, please select “base year emissions (absolute) target” in question 8.3.\n",
      " 2019 question: please provide details of your total city-wide base year intensity target. an intensity target is usually measured per capita or per unit gdp. if you have an absolute emissions reduction target, please select “base year emissions (absolute) target” in question 5.0.\n",
      "2018 question: what are the sources of your city's water supply?\n",
      " 2019 question: what are the sources of your city's water supply? select all that apply.\n",
      "2018 question: please give the name of the primary protocol, standard, or methodology used to calculate your local government operations emissions inventory.\n",
      " 2019 question: please give the name of the primary protocol, standard, or methodology used to calculate your local government operations emissions inventory and attach your inventory using the attachment function.\n",
      "2018 question: does your city have a climate change action plan for reducing city-wide ghg emissions?\n",
      " 2019 question: does your city have a climate change mitigation or energy access plan for reducing city-wide ghg emissions?\n",
      "2018 question: what percentage of your city's population has potable water supply service?\n",
      " 2019 question: what percentage of your city's population has access to potable water supply service?\n",
      "2018 question: how many staff (fte) does your city have for environmental related data management? (including collecting, storing, analysing and communicating)\n",
      " 2019 question: how many staff (fte) does your city have for environmental related data management (including collecting, storing, analyzing and communicating)?\n",
      "2018 question: where it will facilitate a greater understanding of your city-wide emissions, please provide a breakdown of these emissions by end user, or any other classification system used in your city.\n",
      " 2019 question: where it will facilitate a greater understanding of your city-wide emissions, please provide a breakdown of these emissions by the us community protocol sources.\n",
      "2018 question: what tools does your city / department use to analyse its environmental related data?\n",
      " 2019 question: what tools does your city / department use to analyse its environmental related data? select all that apply.\n",
      "2018 question: what tools does your city / department use to analyse its environmental related data?\n",
      " 2019 question: what tools does your city / department use to manage its environmental related data? select all that apply.\n",
      "2018 question: where it will facilitate a greater understanding of your city-wide emissions, please provide a breakdown of these emissions by unfccc sector.\n",
      " 2019 question: where it will facilitate a greater understanding of your city-wide emissions, please provide a breakdown of these emissions by ipcc sector in the table below.\n",
      "2018 question: where it will facilitate a greater understanding of your city-wide emissions, please provide a breakdown of these emissions by unfccc sector.\n",
      " 2019 question: where it will facilitate a greater understanding of your city-wide emissions, please provide a breakdown of these emissions by the us community protocol sources.\n",
      "2018 question: what tools does your city / department use to manage its environmental related data?\n",
      " 2019 question: what tools does your city / department use to analyse its environmental related data? select all that apply.\n",
      "2018 question: what tools does your city / department use to manage its environmental related data?\n",
      " 2019 question: what tools does your city / department use to manage its environmental related data? select all that apply.\n",
      "2018 question: what percentage of your city's electricity grid mix was zero carbon in 2017? \"zero carbon\" may include solar, wind, hydro and other zero carbon generation sources\n",
      " 2019 question: what percentage of your city's electricity grid mix is zero carbon? \"zero carbon\" may include solar, wind, hydro and other zero carbon generation sources.\n"
     ]
    }
   ],
   "source": [
    "for question in questions_2018_not_2019: \n",
    "    for question_ in questions_2019: \n",
    "        if similar(question, question_) > .8:\n",
    "            print('2018 question: ' + question + '\\n 2019 question: ' + question_)"
   ]
  },
  {
   "cell_type": "code",
   "execution_count": null,
   "metadata": {},
   "outputs": [],
   "source": []
  }
 ],
 "metadata": {
  "kernelspec": {
   "display_name": "Python 3",
   "language": "python",
   "name": "python3"
  },
  "language_info": {
   "codemirror_mode": {
    "name": "ipython",
    "version": 3
   },
   "file_extension": ".py",
   "mimetype": "text/x-python",
   "name": "python",
   "nbconvert_exporter": "python",
   "pygments_lexer": "ipython3",
   "version": "3.7.4"
  }
 },
 "nbformat": 4,
 "nbformat_minor": 4
}
